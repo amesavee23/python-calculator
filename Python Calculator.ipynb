{
 "cells": [
  {
   "cell_type": "code",
   "execution_count": 1,
   "id": "ff8e29c0",
   "metadata": {},
   "outputs": [
    {
     "name": "stdout",
     "output_type": "stream",
     "text": [
      "Welcome to my Python Calculator!\n",
      "Please, enter the operation you want to perform (+,-,*,/): +\n",
      "Please, enter the first number: 15\n",
      "Please, enter the second number: 12\n",
      "27.0\n"
     ]
    }
   ],
   "source": [
    "\n",
    "    print(\"Welcome to my Python Calculator!\")\n",
    "    variable = input(\"Please, enter the operation you want to perform (+,-,*,/): \")\n",
    "    x = float(input(\"Please, enter the first number: \"))\n",
    "    y = float(input(\"Please, enter the second number: \"))\n",
    "    \n",
    "    add = float(x) + float(y)\n",
    "    subtract = float(x) - float(y)\n",
    "    multiply = float(x) * float(y)\n",
    "    divide = float(x) / float(y)\n",
    "    \n",
    "    if variable == \"+\": \n",
    "        print(add)\n",
    "    elif variable == \"-\":\n",
    "        print(subtract)\n",
    "    elif variable == \"*\":\n",
    "        print(multiply)\n",
    "    elif variable == \"/\":\n",
    "        print(divide)\n",
    "    else:\n",
    "        print(\"Invalid operation selected.\")\n",
    "\n",
    "    \n"
   ]
  },
  {
   "cell_type": "code",
   "execution_count": null,
   "id": "b0982c1e",
   "metadata": {},
   "outputs": [],
   "source": []
  },
  {
   "cell_type": "code",
   "execution_count": null,
   "id": "1f04e266",
   "metadata": {},
   "outputs": [],
   "source": []
  },
  {
   "cell_type": "code",
   "execution_count": null,
   "id": "9318b53c",
   "metadata": {},
   "outputs": [],
   "source": []
  },
  {
   "cell_type": "code",
   "execution_count": null,
   "id": "2b549b14",
   "metadata": {},
   "outputs": [],
   "source": []
  },
  {
   "cell_type": "code",
   "execution_count": null,
   "id": "4203be3e",
   "metadata": {},
   "outputs": [],
   "source": []
  },
  {
   "cell_type": "code",
   "execution_count": null,
   "id": "2df3d19d",
   "metadata": {},
   "outputs": [],
   "source": []
  }
 ],
 "metadata": {
  "kernelspec": {
   "display_name": "Python 3 (ipykernel)",
   "language": "python",
   "name": "python3"
  },
  "language_info": {
   "codemirror_mode": {
    "name": "ipython",
    "version": 3
   },
   "file_extension": ".py",
   "mimetype": "text/x-python",
   "name": "python",
   "nbconvert_exporter": "python",
   "pygments_lexer": "ipython3",
   "version": "3.9.13"
  }
 },
 "nbformat": 4,
 "nbformat_minor": 5
}
